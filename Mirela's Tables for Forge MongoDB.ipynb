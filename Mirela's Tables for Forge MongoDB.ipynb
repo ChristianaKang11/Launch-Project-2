{
 "cells": [
  {
   "cell_type": "code",
   "execution_count": 73,
   "id": "a6150b4a",
   "metadata": {},
   "outputs": [
    {
     "name": "stdout",
     "output_type": "stream",
     "text": [
      "Requirement already satisfied: pymongo in /opt/anaconda3/lib/python3.11/site-packages (4.7.2)\n",
      "Requirement already satisfied: dnspython<3.0.0,>=1.16.0 in /opt/anaconda3/lib/python3.11/site-packages (from pymongo) (2.6.1)\n",
      "Note: you may need to restart the kernel to use updated packages.\n"
     ]
    }
   ],
   "source": [
    "pip install pymongo"
   ]
  },
  {
   "cell_type": "code",
   "execution_count": 74,
   "id": "ffb3d58a",
   "metadata": {},
   "outputs": [],
   "source": [
    "import pymongo\n",
    "from pymongo import MongoClient\n",
    "import pandas as pd"
   ]
  },
  {
   "cell_type": "code",
   "execution_count": 75,
   "id": "0ff289e3",
   "metadata": {},
   "outputs": [],
   "source": [
    "client = MongoClient('localhost', 27017)"
   ]
  },
  {
   "cell_type": "code",
   "execution_count": 76,
   "id": "a8c20854",
   "metadata": {},
   "outputs": [
    {
     "data": {
      "text/plain": [
       "MongoClient(host=['localhost:27017'], document_class=dict, tz_aware=False, connect=True)"
      ]
     },
     "execution_count": 76,
     "metadata": {},
     "output_type": "execute_result"
    }
   ],
   "source": [
    "client"
   ]
  },
  {
   "cell_type": "code",
   "execution_count": 77,
   "id": "67866333",
   "metadata": {},
   "outputs": [],
   "source": [
    "db = client.example"
   ]
  },
  {
   "cell_type": "code",
   "execution_count": 78,
   "id": "77f77004",
   "metadata": {},
   "outputs": [],
   "source": [
    "collection = db.guests"
   ]
  },
  {
   "cell_type": "code",
   "execution_count": 79,
   "id": "7e5cb37b",
   "metadata": {},
   "outputs": [],
   "source": [
    "guests = pd.read_csv('/Users/mirelalynch/Desktop/Project 2 Launch  - Guests.csv')\n",
    "rooms = pd.read_csv('/Users/mirelalynch/Desktop/Project 2 Launch  - Rooms.csv')\n",
    "payments = pd.read_csv('/Users/mirelalynch/Desktop/Project 2 Launch  - Payments.csv')\n",
    "reservations = pd.read_csv('/Users/mirelalynch/Desktop/Project 2 Launch  - Reservations.csv')"
   ]
  },
  {
   "cell_type": "code",
   "execution_count": 80,
   "id": "b64a1f98",
   "metadata": {},
   "outputs": [],
   "source": [
    "guests_dict = guests.to_dict('records')\n",
    "rooms_dict = rooms.to_dict('records')\n",
    "payments_dict = payments.to_dict('records')\n",
    "reservations_dict = reservations.to_dict('records')\n"
   ]
  },
  {
   "cell_type": "code",
   "execution_count": 81,
   "id": "1f62b627",
   "metadata": {},
   "outputs": [],
   "source": [
    "guests_collection = db.guests\n",
    "rooms_collection = db.rooms\n",
    "payments_collection = db.payments\n",
    "reservations_collection = db.reservations"
   ]
  },
  {
   "cell_type": "code",
   "execution_count": 82,
   "id": "9e5b6454",
   "metadata": {},
   "outputs": [
    {
     "data": {
      "text/plain": [
       "InsertManyResult([ObjectId('66573df7da63410c0d4ab81b'), ObjectId('66573df7da63410c0d4ab81c'), ObjectId('66573df7da63410c0d4ab81d'), ObjectId('66573df7da63410c0d4ab81e'), ObjectId('66573df7da63410c0d4ab81f'), ObjectId('66573df7da63410c0d4ab820'), ObjectId('66573df7da63410c0d4ab821'), ObjectId('66573df7da63410c0d4ab822'), ObjectId('66573df7da63410c0d4ab823'), ObjectId('66573df7da63410c0d4ab824'), ObjectId('66573df7da63410c0d4ab825'), ObjectId('66573df7da63410c0d4ab826'), ObjectId('66573df7da63410c0d4ab827'), ObjectId('66573df7da63410c0d4ab828'), ObjectId('66573df7da63410c0d4ab829'), ObjectId('66573df7da63410c0d4ab82a'), ObjectId('66573df7da63410c0d4ab82b'), ObjectId('66573df7da63410c0d4ab82c'), ObjectId('66573df7da63410c0d4ab82d'), ObjectId('66573df7da63410c0d4ab82e'), ObjectId('66573df7da63410c0d4ab82f'), ObjectId('66573df7da63410c0d4ab830'), ObjectId('66573df7da63410c0d4ab831'), ObjectId('66573df7da63410c0d4ab832'), ObjectId('66573df7da63410c0d4ab833'), ObjectId('66573df7da63410c0d4ab834'), ObjectId('66573df7da63410c0d4ab835'), ObjectId('66573df7da63410c0d4ab836'), ObjectId('66573df7da63410c0d4ab837'), ObjectId('66573df7da63410c0d4ab838')], acknowledged=True)"
      ]
     },
     "execution_count": 82,
     "metadata": {},
     "output_type": "execute_result"
    }
   ],
   "source": [
    "guests_collection.insert_many(guests_dict)\n",
    "rooms_collection.insert_many(rooms_dict)\n",
    "payments_collection.insert_many(payments_dict)\n",
    "reservations_collection.insert_many(reservations_dict)\n"
   ]
  },
  {
   "cell_type": "code",
   "execution_count": 108,
   "id": "2b200808",
   "metadata": {},
   "outputs": [],
   "source": [
    "checkout_date = '05/31/24'"
   ]
  },
  {
   "cell_type": "code",
   "execution_count": 109,
   "id": "cb1c6b50",
   "metadata": {},
   "outputs": [],
   "source": [
    "def clean_up_collection(collection):\n",
    "    documents = list(collection.find())\n",
    "    for doc in documents:\n",
    "        cleaned_doc = {k.strip(): v.strip() if isinstance(v, str) else v for k, v in doc.items()}\n",
    "        collection.update_one({'_id': doc['_id']}, {'$set': cleaned_doc})"
   ]
  },
  {
   "cell_type": "code",
   "execution_count": 110,
   "id": "272f8477",
   "metadata": {},
   "outputs": [],
   "source": [
    "clean_up_collection(reservations_collection)\n",
    "clean_up_collection(guests_collection)"
   ]
  },
  {
   "cell_type": "code",
   "execution_count": 111,
   "id": "ace62e87",
   "metadata": {},
   "outputs": [],
   "source": [
    "pipeline = [\n",
    "    {\n",
    "        '$match': {'Checkout_Date ': checkout_date}\n",
    "    },\n",
    "    {\n",
    "        '$lookup': {\n",
    "            'from': 'guests',\n",
    "            'localField': 'Guest_ID ',\n",
    "            'foreignField': 'Guest_ID',\n",
    "            'as': 'guest_info'\n",
    "        }\n",
    "    },\n",
    "    {\n",
    "        '$unwind': '$guest_info'\n",
    "    },\n",
    "    {\n",
    "        '$project': {\n",
    "            'Guest_Name': '$guest_info.Name',\n",
    "            '_id': 0\n",
    "        }\n",
    "    }\n",
    "]\n"
   ]
  },
  {
   "cell_type": "code",
   "execution_count": 112,
   "id": "490ee617",
   "metadata": {},
   "outputs": [],
   "source": [
    "result = list(reservations_collection.aggregate(pipeline))"
   ]
  },
  {
   "cell_type": "code",
   "execution_count": 113,
   "id": "65cc498c",
   "metadata": {},
   "outputs": [],
   "source": [
    "guests_df = pd.DataFrame(result)"
   ]
  },
  {
   "cell_type": "code",
   "execution_count": 114,
   "id": "387cb79e",
   "metadata": {},
   "outputs": [
    {
     "data": {
      "text/html": [
       "<div>\n",
       "<style scoped>\n",
       "    .dataframe tbody tr th:only-of-type {\n",
       "        vertical-align: middle;\n",
       "    }\n",
       "\n",
       "    .dataframe tbody tr th {\n",
       "        vertical-align: top;\n",
       "    }\n",
       "\n",
       "    .dataframe thead th {\n",
       "        text-align: right;\n",
       "    }\n",
       "</style>\n",
       "<table border=\"1\" class=\"dataframe\">\n",
       "  <thead>\n",
       "    <tr style=\"text-align: right;\">\n",
       "      <th></th>\n",
       "      <th>Guest_Name</th>\n",
       "    </tr>\n",
       "  </thead>\n",
       "  <tbody>\n",
       "    <tr>\n",
       "      <th>0</th>\n",
       "      <td>Liam Mitchell</td>\n",
       "    </tr>\n",
       "    <tr>\n",
       "      <th>1</th>\n",
       "      <td>Ella Russell</td>\n",
       "    </tr>\n",
       "    <tr>\n",
       "      <th>2</th>\n",
       "      <td>Isabella Hayes</td>\n",
       "    </tr>\n",
       "  </tbody>\n",
       "</table>\n",
       "</div>"
      ],
      "text/plain": [
       "       Guest_Name\n",
       "0   Liam Mitchell\n",
       "1    Ella Russell\n",
       "2  Isabella Hayes"
      ]
     },
     "execution_count": 114,
     "metadata": {},
     "output_type": "execute_result"
    }
   ],
   "source": [
    "guests_df"
   ]
  },
  {
   "cell_type": "code",
   "execution_count": null,
   "id": "24e4bb99",
   "metadata": {},
   "outputs": [],
   "source": []
  },
  {
   "cell_type": "code",
   "execution_count": 87,
   "id": "e4342f2b",
   "metadata": {},
   "outputs": [
    {
     "data": {
      "text/html": [
       "<div>\n",
       "<style scoped>\n",
       "    .dataframe tbody tr th:only-of-type {\n",
       "        vertical-align: middle;\n",
       "    }\n",
       "\n",
       "    .dataframe tbody tr th {\n",
       "        vertical-align: top;\n",
       "    }\n",
       "\n",
       "    .dataframe thead th {\n",
       "        text-align: right;\n",
       "    }\n",
       "</style>\n",
       "<table border=\"1\" class=\"dataframe\">\n",
       "  <thead>\n",
       "    <tr style=\"text-align: right;\">\n",
       "      <th></th>\n",
       "    </tr>\n",
       "  </thead>\n",
       "  <tbody>\n",
       "  </tbody>\n",
       "</table>\n",
       "</div>"
      ],
      "text/plain": [
       "Empty DataFrame\n",
       "Columns: []\n",
       "Index: []"
      ]
     },
     "execution_count": 87,
     "metadata": {},
     "output_type": "execute_result"
    }
   ],
   "source": []
  },
  {
   "cell_type": "code",
   "execution_count": null,
   "id": "8c534536",
   "metadata": {},
   "outputs": [],
   "source": []
  }
 ],
 "metadata": {
  "kernelspec": {
   "display_name": "Python 3 (ipykernel)",
   "language": "python",
   "name": "python3"
  },
  "language_info": {
   "codemirror_mode": {
    "name": "ipython",
    "version": 3
   },
   "file_extension": ".py",
   "mimetype": "text/x-python",
   "name": "python",
   "nbconvert_exporter": "python",
   "pygments_lexer": "ipython3",
   "version": "3.11.7"
  }
 },
 "nbformat": 4,
 "nbformat_minor": 5
}
