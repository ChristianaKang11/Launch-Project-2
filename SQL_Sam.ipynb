{
 "cells": [
  {
   "cell_type": "code",
   "execution_count": 1,
   "metadata": {
    "colab": {
     "base_uri": "https://localhost:8080/",
     "height": 375
    },
    "id": "pL3MK37u3V_h",
    "outputId": "dc519631-bc91-4ea3-ca21-b1dbcf060b31"
   },
   "outputs": [],
   "source": [
    "\n",
    "import sqlalchemy\n",
    "import pymysql\n",
    "from sqlalchemy import create_engine\n",
    "import pandas as pd"
   ]
  },
  {
   "cell_type": "code",
   "execution_count": 2,
   "metadata": {
    "id": "dQADRimI3V_j"
   },
   "outputs": [],
   "source": [
    "password = '---'\n",
    "db_name = 'project2'"
   ]
  },
  {
   "cell_type": "code",
   "execution_count": 3,
   "metadata": {
    "id": "wkVFDxfq3V_j"
   },
   "outputs": [],
   "source": [
    "conn = pymysql.connect(host='127.0.0.1', port=3306, user='root', password=password, database=db_name)"
   ]
  },
  {
   "cell_type": "code",
   "execution_count": 4,
   "metadata": {
    "id": "8_4eHzso3V_j"
   },
   "outputs": [],
   "source": [
    "connection = create_engine(\"mysql+pymysql://root:\" + password + \"@localhost:3306/\" + db_name)"
   ]
  },
  {
   "cell_type": "code",
   "execution_count": 5,
   "metadata": {
    "colab": {
     "base_uri": "https://localhost:8080/",
     "height": 144
    },
    "id": "UUtddbLZ21do",
    "outputId": "e44ad0e7-bf11-4549-a7df-557c8b6d64b1"
   },
   "outputs": [],
   "source": [
    "rooms = pd.read_csv('Project 2 Launch  - Rooms.csv')\n",
    "reservation = pd.read_csv('Project 2 Launch  - Reservations.csv')\n",
    "guests = pd.read_csv('Project 2 Launch  - Guests.csv')\n",
    "payments = pd.read_csv('Project 2 Launch  - Payments.csv')"
   ]
  },
  {
   "cell_type": "code",
   "execution_count": 6,
   "metadata": {
    "id": "5ktGrJYM28Zl"
   },
   "outputs": [],
   "source": [
    "table1 = 'rooms'\n",
    "table2 = 'reservations'\n",
    "table3 = 'guests'\n",
    "table4 = 'payments'\n"
   ]
  },
  {
   "cell_type": "code",
   "execution_count": 7,
   "metadata": {},
   "outputs": [],
   "source": [
    "reservation.columns = reservation.columns.str.strip()\n",
    "rooms.columns = rooms.columns.str.strip()\n",
    "guests.columns = guests.columns.str.strip()\n",
    "rooms.columns = rooms.columns.str.strip()"
   ]
  },
  {
   "cell_type": "code",
   "execution_count": 8,
   "metadata": {
    "id": "1jna0HT821kQ"
   },
   "outputs": [
    {
     "data": {
      "text/plain": [
       "30"
      ]
     },
     "execution_count": 8,
     "metadata": {},
     "output_type": "execute_result"
    }
   ],
   "source": [
    "reservation.to_sql(name=table2, con=connection, if_exists='replace', index=False)\n",
    "rooms.to_sql(name=table1, con=connection, if_exists='replace', index=False)\n",
    "guests.to_sql(name=table3, con=connection, if_exists='replace', index=False)\n",
    "payments.to_sql(name=table4, con=connection, if_exists='replace', index=False)"
   ]
  },
  {
   "cell_type": "code",
   "execution_count": 19,
   "metadata": {
    "id": "NK55kBpc21qY"
   },
   "outputs": [],
   "source": [
    "query = r\"\"\" \n",
    "\n",
    "WITH new_reservations AS (\n",
    "SELECT `Guest ID` AS RES_GUEST_ID, \n",
    "`Check-in Date` AS CHECK_IN_DATE, \n",
    "`Check-out Date` AS CHECK_OUT_DATE\n",
    "FROM reservations), \n",
    "\n",
    "new_join AS (\n",
    "SELECT RES_GUEST_ID, Name, \n",
    "STR_TO_DATE(CHECK_IN_DATE, '%%m/%%d/%%Y') AS CHECK_IN_DATE2,\n",
    "STR_TO_DATE(CHECK_OUT_DATE, '%%m/%%d/%%Y') AS CHECK_OUT_DATE2\n",
    "\n",
    "FROM new_reservations\n",
    "JOIN guests ON new_reservations.RES_GUEST_ID = guests.Guest_ID)\n",
    "\n",
    "SELECT \n",
    "RES_GUEST_ID, \n",
    "Name, \n",
    "DATEDIFF(CHECK_OUT_DATE2, CHECK_IN_DATE2) AS STAY_DURATION\n",
    "FROM new_join\n",
    "\n",
    "ORDER BY STAY_DURATION DESC\n",
    "LIMIT 5;\n",
    "\"\"\"\n"
   ]
  },
  {
   "cell_type": "code",
   "execution_count": 20,
   "metadata": {
    "colab": {
     "base_uri": "https://localhost:8080/",
     "height": 162
    },
    "id": "F8LiiJUW3V_k",
    "outputId": "abe122e0-0afb-44af-99ca-cd80996d242f"
   },
   "outputs": [],
   "source": [
    "result_df = pd.read_sql(query, con=connection)"
   ]
  },
  {
   "cell_type": "code",
   "execution_count": 21,
   "metadata": {
    "id": "fx9qYzW53V_l"
   },
   "outputs": [
    {
     "data": {
      "text/html": [
       "<div>\n",
       "<style scoped>\n",
       "    .dataframe tbody tr th:only-of-type {\n",
       "        vertical-align: middle;\n",
       "    }\n",
       "\n",
       "    .dataframe tbody tr th {\n",
       "        vertical-align: top;\n",
       "    }\n",
       "\n",
       "    .dataframe thead th {\n",
       "        text-align: right;\n",
       "    }\n",
       "</style>\n",
       "<table border=\"1\" class=\"dataframe\">\n",
       "  <thead>\n",
       "    <tr style=\"text-align: right;\">\n",
       "      <th></th>\n",
       "      <th>RES_GUEST_ID</th>\n",
       "      <th>Name</th>\n",
       "      <th>STAY_DURATION</th>\n",
       "    </tr>\n",
       "  </thead>\n",
       "  <tbody>\n",
       "    <tr>\n",
       "      <th>0</th>\n",
       "      <td>834726</td>\n",
       "      <td>Sophia Bennett</td>\n",
       "      <td>13</td>\n",
       "    </tr>\n",
       "    <tr>\n",
       "      <th>1</th>\n",
       "      <td>975786</td>\n",
       "      <td>Zoe Watson</td>\n",
       "      <td>11</td>\n",
       "    </tr>\n",
       "    <tr>\n",
       "      <th>2</th>\n",
       "      <td>638495</td>\n",
       "      <td>Mia Adams</td>\n",
       "      <td>10</td>\n",
       "    </tr>\n",
       "    <tr>\n",
       "      <th>3</th>\n",
       "      <td>628374</td>\n",
       "      <td>Ava Richardson</td>\n",
       "      <td>9</td>\n",
       "    </tr>\n",
       "    <tr>\n",
       "      <th>4</th>\n",
       "      <td>276385</td>\n",
       "      <td>Charlotte Jenkins</td>\n",
       "      <td>9</td>\n",
       "    </tr>\n",
       "  </tbody>\n",
       "</table>\n",
       "</div>"
      ],
      "text/plain": [
       "   RES_GUEST_ID               Name  STAY_DURATION\n",
       "0        834726     Sophia Bennett             13\n",
       "1        975786         Zoe Watson             11\n",
       "2        638495          Mia Adams             10\n",
       "3        628374     Ava Richardson              9\n",
       "4        276385  Charlotte Jenkins              9"
      ]
     },
     "execution_count": 21,
     "metadata": {},
     "output_type": "execute_result"
    }
   ],
   "source": [
    "result_df"
   ]
  }
 ],
 "metadata": {
  "colab": {
   "provenance": []
  },
  "kernelspec": {
   "display_name": "Python 3 (ipykernel)",
   "language": "python",
   "name": "python3"
  },
  "language_info": {
   "codemirror_mode": {
    "name": "ipython",
    "version": 3
   },
   "file_extension": ".py",
   "mimetype": "text/x-python",
   "name": "python",
   "nbconvert_exporter": "python",
   "pygments_lexer": "ipython3",
   "version": "3.11.7"
  }
 },
 "nbformat": 4,
 "nbformat_minor": 4
}
