{
 "cells": [
  {
   "cell_type": "code",
   "execution_count": 1,
   "id": "306ca36c",
   "metadata": {},
   "outputs": [
    {
     "name": "stdout",
     "output_type": "stream",
     "text": [
      "Requirement already satisfied: pymongo in c:\\users\\ham04\\anaconda3\\lib\\site-packages (4.7.2)\n",
      "Requirement already satisfied: dnspython<3.0.0,>=1.16.0 in c:\\users\\ham04\\anaconda3\\lib\\site-packages (from pymongo) (2.6.1)\n",
      "Note: you may need to restart the kernel to use updated packages.\n"
     ]
    }
   ],
   "source": [
    "pip install pymongo"
   ]
  },
  {
   "cell_type": "code",
   "execution_count": 2,
   "id": "52d4a1be",
   "metadata": {},
   "outputs": [],
   "source": [
    "import pymongo\n",
    "from pymongo import MongoClient\n",
    "import pandas as pd"
   ]
  },
  {
   "cell_type": "code",
   "execution_count": 3,
   "id": "585f60a0",
   "metadata": {},
   "outputs": [],
   "source": [
    "payments = pd.read_csv(\"Project 2 Launch  - Payments.csv\")\n",
    "rooms = pd.read_csv(\"Project 2 Launch  - Rooms.csv\")\n",
    "reserve = pd.read_csv(\"Project 2 Launch  - Reservations.csv\")\n",
    "guests = pd.read_csv(\"Project 2 Launch  - Guests.csv\")"
   ]
  },
  {
   "cell_type": "code",
   "execution_count": 4,
   "id": "3f58f150",
   "metadata": {},
   "outputs": [],
   "source": [
    "rooms.columns = rooms.columns.str.strip()\n",
    "reserve.columns = reserve.columns.str.strip()\n",
    "payments.columns = payments.columns.str.strip()\n",
    "guests.columns = guests.columns.str.strip()"
   ]
  },
  {
   "cell_type": "code",
   "execution_count": 5,
   "id": "9d855b05",
   "metadata": {},
   "outputs": [],
   "source": [
    "launch = MongoClient('mongodb://localhost:27017/')"
   ]
  },
  {
   "cell_type": "code",
   "execution_count": 6,
   "id": "e5461cac",
   "metadata": {},
   "outputs": [],
   "source": [
    "db = launch.project"
   ]
  },
  {
   "cell_type": "code",
   "execution_count": 7,
   "id": "914b9801",
   "metadata": {},
   "outputs": [],
   "source": [
    "collection = db.payments\n",
    "collection1 = db.rooms\n",
    "collection2 = db.reserve\n",
    "collection3 = db.guests"
   ]
  },
  {
   "cell_type": "code",
   "execution_count": 8,
   "id": "c7b193a3",
   "metadata": {},
   "outputs": [],
   "source": [
    "data = payments.to_dict(orient='records')\n",
    "data1 = rooms.to_dict(orient='records')\n",
    "data2 = reserve.to_dict(orient='records')\n",
    "data3 = guests.to_dict(orient='records')"
   ]
  },
  {
   "cell_type": "code",
   "execution_count": 9,
   "id": "e1165cea",
   "metadata": {},
   "outputs": [
    {
     "data": {
      "text/plain": [
       "InsertManyResult([ObjectId('6659cbed50daff0c7009108d'), ObjectId('6659cbed50daff0c7009108e'), ObjectId('6659cbed50daff0c7009108f'), ObjectId('6659cbed50daff0c70091090'), ObjectId('6659cbed50daff0c70091091'), ObjectId('6659cbed50daff0c70091092'), ObjectId('6659cbed50daff0c70091093'), ObjectId('6659cbed50daff0c70091094'), ObjectId('6659cbed50daff0c70091095'), ObjectId('6659cbed50daff0c70091096'), ObjectId('6659cbed50daff0c70091097'), ObjectId('6659cbed50daff0c70091098'), ObjectId('6659cbed50daff0c70091099'), ObjectId('6659cbed50daff0c7009109a'), ObjectId('6659cbed50daff0c7009109b'), ObjectId('6659cbed50daff0c7009109c'), ObjectId('6659cbed50daff0c7009109d'), ObjectId('6659cbed50daff0c7009109e'), ObjectId('6659cbed50daff0c7009109f'), ObjectId('6659cbed50daff0c700910a0'), ObjectId('6659cbed50daff0c700910a1'), ObjectId('6659cbed50daff0c700910a2'), ObjectId('6659cbed50daff0c700910a3'), ObjectId('6659cbed50daff0c700910a4'), ObjectId('6659cbed50daff0c700910a5'), ObjectId('6659cbed50daff0c700910a6'), ObjectId('6659cbed50daff0c700910a7'), ObjectId('6659cbed50daff0c700910a8'), ObjectId('6659cbed50daff0c700910a9'), ObjectId('6659cbed50daff0c700910aa')], acknowledged=True)"
      ]
     },
     "execution_count": 9,
     "metadata": {},
     "output_type": "execute_result"
    }
   ],
   "source": [
    "collection.insert_many(data)\n",
    "collection1.insert_many(data1)\n",
    "collection2.insert_many(data2)\n",
    "collection3.insert_many(data3)"
   ]
  },
  {
   "cell_type": "code",
   "execution_count": 10,
   "id": "8e5b8c34",
   "metadata": {},
   "outputs": [
    {
     "name": "stdout",
     "output_type": "stream",
     "text": [
      "{'_id': ObjectId('66573e20002bea8b8345f4fd'), 'Amount': 3300, 'Guest_ID': 975786, 'Email': 'j9b2@example.com', 'Name': 'Zoe Watson'}\n",
      "{'_id': ObjectId('66573e20002bea8b8345f4ef'), 'Amount': 2400, 'Guest_ID': 547839, 'Email': 'd7k8h2@example.com', 'Name': 'Isabella Hayes'}\n",
      "{'_id': ObjectId('66573e20002bea8b8345f4eb'), 'Amount': 1950, 'Guest_ID': 834726, 'Email': 'q6a5b3@example.com', 'Name': 'Sophia Bennett'}\n",
      "{'_id': ObjectId('66573e20002bea8b8345f4f9'), 'Amount': 1500, 'Guest_ID': 527038, 'Email': 'h2d4@example.com', 'Name': 'Lily Edwards'}\n",
      "{'_id': ObjectId('66573e20002bea8b8345f4f1'), 'Amount': 1350, 'Guest_ID': 276385, 'Email': 'c6b7t3@example.com', 'Name': 'Charlotte Jenkins'}\n",
      "{'_id': ObjectId('66573e20002bea8b8345f4f7'), 'Amount': 1350, 'Guest_ID': 672839, 'Email': 't9x2d4@example.com', 'Name': 'Grace Henderson'}\n",
      "{'_id': ObjectId('66573e20002bea8b8345f4e9'), 'Amount': 1200, 'Guest_ID': 384920, 'Email': 'j1l4d8@example.com', 'Name': 'Emma Sullivan'}\n",
      "{'_id': ObjectId('66573e20002bea8b8345f4ec'), 'Amount': 1200, 'Guest_ID': 129837, 'Email': 'x8z7c1@example.com', 'Name': 'Lucas Ward'}\n",
      "{'_id': ObjectId('66573e20002bea8b8345f4e6'), 'Amount': 1200, 'Guest_ID': 194837, 'Email': 'k5t8w1@example.com', 'Name': 'Noah Carter'}\n",
      "{'_id': ObjectId('66573e20002bea8b8345f4fe'), 'Amount': 1050, 'Guest_ID': 123456, 'Email': 'r5t7@example.com', 'Name': 'Nathaniel Hughes'}\n",
      "{'_id': ObjectId('66573e20002bea8b8345f4ed'), 'Amount': 1000, 'Guest_ID': 638495, 'Email': 'v5n2l4@example.com', 'Name': 'Mia Adams'}\n"
     ]
    }
   ],
   "source": [
    "initial_pipeline = [\n",
    "    {\n",
    "        \"$match\": {\n",
    "            # Add criteria to filter your primary collection before the lookup\n",
    "            \"Amount\": {\"$gte\": 1000}  # Example filter\n",
    "        }\n",
    "    },\n",
    "    {\n",
    "        \"$lookup\": {\n",
    "            \"from\": \"reserve\",  # The target collection to join\n",
    "            \"localField\": \"Reservation_ID\",  # Field from the input documents (payments collection)\n",
    "            \"foreignField\": \"Reservation_ID\",  # Field from the documents of the 'reserve' collection\n",
    "            \"as\": \"reserve\"  # Output array field to add to each input document\n",
    "        }\n",
    "    },\n",
    "    {\n",
    "        \"$unwind\": \"$reserve\"  # Unwind the 'reserve' array\n",
    "    },\n",
    "    {\n",
    "        \"$lookup\": {\n",
    "            \"from\": \"guests\",  # The target collection to join\n",
    "            \"localField\": \"reserve.Guest_ID\",  # Field from the 'reserve' documents\n",
    "            \"foreignField\": \"Guest_ID\",  # Field from the documents of the 'guests' collection\n",
    "            \"as\": \"guests\"  # Output array field to add to each input document\n",
    "        }\n",
    "    },\n",
    "    {\n",
    "        \"$unwind\": \"$guests\"  # Unwind the 'guests' array\n",
    "    },\n",
    "    {\n",
    "        \"$project\": {\n",
    "            \"Amount\": 1,  # Include the 'Amount' field from payments collection\n",
    "            \"Guest_ID\": \"$reserve.Guest_ID\",  # Include the 'Guest_ID' from reserve\n",
    "            \"Email\": \"$guests.Email\",  # Include the 'Email' from guests\n",
    "            \"Name\": \"$guests.Name\"  # Include the 'Name' from guests\n",
    "        }\n",
    "    },\n",
    "    {\n",
    "        \"$sort\": {\n",
    "            \"Amount\": -1  # Sort by 'Amount' field in descending order\n",
    "        }\n",
    "    }\n",
    "]\n",
    "\n",
    "# Add the duplicate removal stage\n",
    "deduplication_stage = [\n",
    "    {\n",
    "        \"$group\": {\n",
    "            \"_id\": {\n",
    "                \"Amount\": \"$Amount\",\n",
    "                \"Guest_ID\": \"$Guest_ID\",\n",
    "                \"Email\": \"$Email\",\n",
    "                \"Name\": \"$Name\"\n",
    "            },\n",
    "            \"doc\": { \"$first\": \"$$ROOT\" }\n",
    "        }\n",
    "    },\n",
    "    {\n",
    "        \"$replaceRoot\": { \"newRoot\": \"$doc\" }\n",
    "    }\n",
    "]\n",
    "\n",
    "# Add a match stage to filter out documents without all required fields\n",
    "cleanup_stage = [\n",
    "    {\n",
    "        \"$match\": {\n",
    "            \"Guest_ID\": { \"$exists\": True },\n",
    "            \"Email\": { \"$exists\": True },\n",
    "            \"Name\": { \"$exists\": True }\n",
    "        }\n",
    "    },\n",
    "    {\n",
    "        \"$sort\": {\n",
    "            \"Amount\": -1  # Sort by 'Amount' field in descending order\n",
    "        }\n",
    "    }\n",
    "]\n",
    "\n",
    "# Combine all pipeline stages\n",
    "pipeline = initial_pipeline + deduplication_stage + cleanup_stage\n",
    "\n",
    "# Execute the pipeline\n",
    "result = list(collection.aggregate(pipeline))\n",
    "\n",
    "# Print the results\n",
    "for doc in result:\n",
    "    print(doc)"
   ]
  },
  {
   "cell_type": "code",
   "execution_count": null,
   "id": "a737fbed",
   "metadata": {},
   "outputs": [],
   "source": []
  }
 ],
 "metadata": {
  "kernelspec": {
   "display_name": "Python 3 (ipykernel)",
   "language": "python",
   "name": "python3"
  },
  "language_info": {
   "codemirror_mode": {
    "name": "ipython",
    "version": 3
   },
   "file_extension": ".py",
   "mimetype": "text/x-python",
   "name": "python",
   "nbconvert_exporter": "python",
   "pygments_lexer": "ipython3",
   "version": "3.11.5"
  }
 },
 "nbformat": 4,
 "nbformat_minor": 5
}
