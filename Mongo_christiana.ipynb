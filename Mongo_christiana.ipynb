{
  "cells": [
    {
      "cell_type": "markdown",
      "metadata": {
        "id": "IKkww35xCCm6"
      },
      "source": [
        "# MongoDB"
      ]
    },
    {
      "cell_type": "markdown",
      "metadata": {
        "id": "znx9uT_TCCnJ"
      },
      "source": [
        "### Setting things up"
      ]
    },
    {
      "cell_type": "markdown",
      "metadata": {
        "id": "RWzNdbLAtBPX"
      },
      "source": [
        "Remember to restart the kernel after running this code cell if you didn't already have pymongo installed (you only need to do this once)"
      ]
    },
    {
      "cell_type": "code",
      "execution_count": 7,
      "metadata": {
        "id": "7Osvpbz7CCnK"
      },
      "outputs": [],
      "source": [
        "import pymongo\n",
        "from pymongo import MongoClient\n",
        "import pandas as pd\n",
        "import pprint"
      ]
    },
    {
      "cell_type": "code",
      "execution_count": 22,
      "metadata": {
        "id": "tGoxtv90CCnM"
      },
      "outputs": [],
      "source": [
        "client = MongoClient('localhost', 27017)"
      ]
    },
    {
      "cell_type": "code",
      "execution_count": 23,
      "metadata": {
        "id": "6gjaLLzGCCnP"
      },
      "outputs": [
        {
          "data": {
            "text/plain": [
              "MongoClient(host=['localhost:27017'], document_class=dict, tz_aware=False, connect=True)"
            ]
          },
          "execution_count": 23,
          "metadata": {},
          "output_type": "execute_result"
        }
      ],
      "source": [
        "client"
      ]
    },
    {
      "cell_type": "code",
      "execution_count": 24,
      "metadata": {
        "id": "LShNkvPBCCnY"
      },
      "outputs": [],
      "source": [
        "db = client.hotel"
      ]
    },
    {
      "cell_type": "code",
      "execution_count": 61,
      "metadata": {},
      "outputs": [],
      "source": [
        "guests = pd.read_csv('Project 2 Launch  - Guests.csv')\n",
        "payments = pd.read_csv('Project 2 Launch  - Payments.csv')\n",
        "reservations = pd.read_csv('Project 2 Launch  - Reservations.csv')\n",
        "rooms = pd.read_csv('Project 2 Launch  - Rooms.csv')"
      ]
    },
    {
      "cell_type": "code",
      "execution_count": 50,
      "metadata": {},
      "outputs": [
        {
          "data": {
            "text/plain": [
              "Index(['Reservation_ID', 'Room_Number', 'Guest_ID', 'Checkin_Date',\n",
              "       'Checkout_Date'],\n",
              "      dtype='object')"
            ]
          },
          "execution_count": 50,
          "metadata": {},
          "output_type": "execute_result"
        }
      ],
      "source": [
        "reservations.columns"
      ]
    },
    {
      "cell_type": "code",
      "execution_count": 62,
      "metadata": {},
      "outputs": [
        {
          "data": {
            "text/plain": [
              "InsertManyResult([ObjectId('665746973a8b63f9eac6bf66'), ObjectId('665746973a8b63f9eac6bf67'), ObjectId('665746973a8b63f9eac6bf68'), ObjectId('665746973a8b63f9eac6bf69'), ObjectId('665746973a8b63f9eac6bf6a'), ObjectId('665746973a8b63f9eac6bf6b'), ObjectId('665746973a8b63f9eac6bf6c'), ObjectId('665746973a8b63f9eac6bf6d'), ObjectId('665746973a8b63f9eac6bf6e'), ObjectId('665746973a8b63f9eac6bf6f'), ObjectId('665746973a8b63f9eac6bf70'), ObjectId('665746973a8b63f9eac6bf71'), ObjectId('665746973a8b63f9eac6bf72'), ObjectId('665746973a8b63f9eac6bf73'), ObjectId('665746973a8b63f9eac6bf74'), ObjectId('665746973a8b63f9eac6bf75'), ObjectId('665746973a8b63f9eac6bf76'), ObjectId('665746973a8b63f9eac6bf77'), ObjectId('665746973a8b63f9eac6bf78'), ObjectId('665746973a8b63f9eac6bf79'), ObjectId('665746973a8b63f9eac6bf7a'), ObjectId('665746973a8b63f9eac6bf7b'), ObjectId('665746973a8b63f9eac6bf7c'), ObjectId('665746973a8b63f9eac6bf7d'), ObjectId('665746973a8b63f9eac6bf7e'), ObjectId('665746973a8b63f9eac6bf7f'), ObjectId('665746973a8b63f9eac6bf80'), ObjectId('665746973a8b63f9eac6bf81'), ObjectId('665746973a8b63f9eac6bf82'), ObjectId('665746973a8b63f9eac6bf83')], acknowledged=True)"
            ]
          },
          "execution_count": 62,
          "metadata": {},
          "output_type": "execute_result"
        }
      ],
      "source": [
        "# guests_collection = db.guests\n",
        "# guests_data = guests.to_dict(orient='records')\n",
        "# guests_collection.insert_many(guests_data)\n",
        "\n",
        "# payments_collection = db.payments\n",
        "# payments_data = payments.to_dict(orient='records')\n",
        "# payments_collection.insert_many(payments_data)\n",
        "\n",
        "reservations_collection = db.reservations\n",
        "reservations_data = reservations.to_dict(orient='records')\n",
        "reservations_collection.insert_many(reservations_data)\n",
        "\n",
        "rooms_collection = db.rooms\n",
        "rooms_data = rooms.to_dict(orient='records')\n",
        "rooms_collection.insert_many(rooms_data)"
      ]
    },
    {
      "cell_type": "markdown",
      "metadata": {
        "id": "0viAWcgxxWzd"
      },
      "source": [
        "MongoDB is made up of, in a simplified way, massive JSON objects"
      ]
    },
    {
      "cell_type": "markdown",
      "metadata": {
        "id": "TcFCPHOVCCnk"
      },
      "source": [
        "### Querying data"
      ]
    },
    {
      "cell_type": "markdown",
      "metadata": {
        "id": "6sbpG-IvwW-s"
      },
      "source": [
        "Let's explore some example data that might be similar to the type you are creating in your projects"
      ]
    },
    {
      "cell_type": "markdown",
      "metadata": {
        "id": "ySVHP_1owdNY"
      },
      "source": [
        "We can easily convert flat data to dictionary format with `to_dict()`"
      ]
    },
    {
      "cell_type": "markdown",
      "metadata": {
        "id": "8RRyaesbwjaS"
      },
      "source": [
        "We can then insert it into our MongoDB"
      ]
    },
    {
      "cell_type": "markdown",
      "metadata": {},
      "source": [
        "### Which rooms have the highest occupancy rates? (Rooms<->Reservation)"
      ]
    },
    {
      "cell_type": "code",
      "execution_count": 63,
      "metadata": {},
      "outputs": [],
      "source": [
        "pipeline = [\n",
        "    {\n",
        "        '$lookup': {\n",
        "            'from': 'reservations',\n",
        "            'localField': 'ID',\n",
        "            'foreignField': 'Room_Number',\n",
        "            'as': 'reservations'\n",
        "        }\n",
        "    },\n",
        "    {\n",
        "        '$unwind': '$reservations'\n",
        "    },\n",
        "    {\n",
        "        '$addFields': {\n",
        "            'checkinDate': {\n",
        "                '$dateFromString': {\n",
        "                    'dateString': '$reservations.Checkin_Date',\n",
        "                    'format': '%m/%d/%Y'\n",
        "                }\n",
        "            },\n",
        "            'checkoutDate': {\n",
        "                '$dateFromString': {\n",
        "                    'dateString': '$reservations.Checkout_Date',\n",
        "                    'format': '%m/%d/%Y'\n",
        "                }\n",
        "            }\n",
        "        }\n",
        "    },\n",
        "    {\n",
        "        '$group': {\n",
        "            '_id': {\n",
        "                'roomnum': '$ID',\n",
        "                'type': '$Type',\n",
        "                'capacity': '$Capacity',\n",
        "                'price': '$Price'\n",
        "            },\n",
        "            'totalBookedDays': {\n",
        "                '$sum': { '$subtract': ['$checkoutDate', '$checkinDate'] }\n",
        "            },\n",
        "            'totalReservations': {\n",
        "                '$sum': 1\n",
        "            }\n",
        "        }\n",
        "    },\n",
        "    {\n",
        "        '$lookup': {\n",
        "            'from': 'reservations',\n",
        "            'pipeline': [\n",
        "                {\n",
        "                    '$project': {\n",
        "                        'checkinDate': {\n",
        "                            '$dateFromString': {\n",
        "                                'dateString': '$Checkin_Date',\n",
        "                                'format': '%m/%d/%Y'\n",
        "                            }\n",
        "                        },\n",
        "                        'checkoutDate': {\n",
        "                            '$dateFromString': {\n",
        "                                'dateString': '$Checkout_Date',\n",
        "                                'format': '%m/%d/%Y'\n",
        "                            }\n",
        "                        }\n",
        "                    }\n",
        "                }\n",
        "            ],\n",
        "            'as': 'allReservations'\n",
        "        }\n",
        "    },\n",
        "    {\n",
        "        '$unwind': '$allReservations'\n",
        "    },\n",
        "    {\n",
        "        '$group': {\n",
        "            '_id': None,\n",
        "            'minDate': { '$min': '$allReservations.checkinDate' },\n",
        "            'maxDate': { '$max': '$allReservations.checkoutDate' }\n",
        "        }\n",
        "    },\n",
        "    {\n",
        "        '$addFields': {\n",
        "            'totalDays': {\n",
        "                '$subtract': ['$maxDate', '$minDate']\n",
        "            }\n",
        "        }\n",
        "    },\n",
        "    {\n",
        "        '$lookup': {\n",
        "            'from': 'rooms',\n",
        "            'let': { 'minDate': '$minDate', 'maxDate': '$maxDate', 'totalDays': '$totalDays' },\n",
        "            'pipeline': [\n",
        "                {\n",
        "                    '$lookup': {\n",
        "                        'from': 'reservations',\n",
        "                        'localField': 'ID',\n",
        "                        'foreignField': 'Room_Number',\n",
        "                        'as': 'reservations'\n",
        "                    }\n",
        "                },\n",
        "                {\n",
        "                    '$unwind': '$reservations'\n",
        "                },\n",
        "                {\n",
        "                    '$addFields': {\n",
        "                        'checkinDate': {\n",
        "                            '$dateFromString': {\n",
        "                                'dateString': '$reservations.Checkin_Date',\n",
        "                                'format': '%m/%d/%Y'\n",
        "                            }\n",
        "                        },\n",
        "                        'checkoutDate': {\n",
        "                            '$dateFromString': {\n",
        "                                'dateString': '$reservations.Checkout_Date',\n",
        "                                'format': '%m/%d/%Y'\n",
        "                            }\n",
        "                        }\n",
        "                    }\n",
        "                },\n",
        "                {\n",
        "                    '$group': {\n",
        "                        '_id': {\n",
        "                            'roomnum': '$ID',\n",
        "                            'type': '$Type',\n",
        "                            'capacity': '$Capacity',\n",
        "                            'price': '$Price'\n",
        "                        },\n",
        "                        'totalBookedDays': {\n",
        "                            '$sum': { '$subtract': ['$checkoutDate', '$checkinDate'] }\n",
        "                        },\n",
        "                        'totalReservations': {\n",
        "                            '$sum': 1\n",
        "                        }\n",
        "                    }\n",
        "                },\n",
        "                {\n",
        "                    '$addFields': {\n",
        "                        'occupancyRate': {\n",
        "                            '$multiply': [\n",
        "                                {\n",
        "                                    '$divide': ['$totalBookedDays', '$$totalDays']\n",
        "                                },\n",
        "                                100\n",
        "                            ]\n",
        "                        }\n",
        "                    }\n",
        "                },\n",
        "                {\n",
        "                    '$sort': { 'occupancyRate': -1 }\n",
        "                }\n",
        "            ],\n",
        "            'as': 'roomsOccupancy'\n",
        "        }\n",
        "    },\n",
        "    {\n",
        "        '$unwind': '$roomsOccupancy'\n",
        "    },\n",
        "    {\n",
        "        '$replaceRoot': { 'newRoot': '$roomsOccupancy' }\n",
        "    }\n",
        "]"
      ]
    },
    {
      "cell_type": "code",
      "execution_count": 64,
      "metadata": {
        "id": "M8sJX9AgCCnp"
      },
      "outputs": [
        {
          "name": "stdout",
          "output_type": "stream",
          "text": [
            "{'_id': {'roomnum': 8, 'type': 'Double', 'capacity': 2, 'price': 150}, 'totalBookedDays': 1468800000, 'totalReservations': 2, 'occupancyRate': 94.44444444444444}\n",
            "{'_id': {'roomnum': 20, 'type': 'Double', 'capacity': 2, 'price': 150}, 'totalBookedDays': 1382400000, 'totalReservations': 2, 'occupancyRate': 88.88888888888889}\n",
            "{'_id': {'roomnum': 3, 'type': 'Suite', 'capacity': 4, 'price': 300}, 'totalBookedDays': 1296000000, 'totalReservations': 2, 'occupancyRate': 83.33333333333334}\n",
            "{'_id': {'roomnum': 10, 'type': 'Single', 'capacity': 1, 'price': 100}, 'totalBookedDays': 1123200000, 'totalReservations': 2, 'occupancyRate': 72.22222222222221}\n",
            "{'_id': {'roomnum': 6, 'type': 'Suite', 'capacity': 4, 'price': 300}, 'totalBookedDays': 1123200000, 'totalReservations': 2, 'occupancyRate': 72.22222222222221}\n",
            "{'_id': {'roomnum': 19, 'type': 'Single', 'capacity': 1, 'price': 100}, 'totalBookedDays': 1036800000, 'totalReservations': 2, 'occupancyRate': 66.66666666666666}\n",
            "{'_id': {'roomnum': 4, 'type': 'Single', 'capacity': 1, 'price': 100}, 'totalBookedDays': 777600000, 'totalReservations': 1, 'occupancyRate': 50.0}\n",
            "{'_id': {'roomnum': 13, 'type': 'Single', 'capacity': 1, 'price': 100}, 'totalBookedDays': 777600000, 'totalReservations': 2, 'occupancyRate': 50.0}\n",
            "{'_id': {'roomnum': 14, 'type': 'Double', 'capacity': 2, 'price': 150}, 'totalBookedDays': 777600000, 'totalReservations': 1, 'occupancyRate': 50.0}\n",
            "{'_id': {'roomnum': 1, 'type': 'Single', 'capacity': 1, 'price': 100}, 'totalBookedDays': 777600000, 'totalReservations': 2, 'occupancyRate': 50.0}\n",
            "{'_id': {'roomnum': 12, 'type': 'Suite', 'capacity': 4, 'price': 300}, 'totalBookedDays': 691200000, 'totalReservations': 1, 'occupancyRate': 44.44444444444444}\n",
            "{'_id': {'roomnum': 16, 'type': 'Single', 'capacity': 1, 'price': 100}, 'totalBookedDays': 691200000, 'totalReservations': 2, 'occupancyRate': 44.44444444444444}\n",
            "{'_id': {'roomnum': 11, 'type': 'Double', 'capacity': 2, 'price': 150}, 'totalBookedDays': 604800000, 'totalReservations': 2, 'occupancyRate': 38.88888888888889}\n",
            "{'_id': {'roomnum': 7, 'type': 'Single', 'capacity': 1, 'price': 100}, 'totalBookedDays': 518400000, 'totalReservations': 1, 'occupancyRate': 33.33333333333333}\n",
            "{'_id': {'roomnum': 5, 'type': 'Double', 'capacity': 2, 'price': 150}, 'totalBookedDays': 432000000, 'totalReservations': 1, 'occupancyRate': 27.77777777777778}\n",
            "{'_id': {'roomnum': 2, 'type': 'Double', 'capacity': 2, 'price': 150}, 'totalBookedDays': 345600000, 'totalReservations': 1, 'occupancyRate': 22.22222222222222}\n",
            "{'_id': {'roomnum': 17, 'type': 'Double', 'capacity': 2, 'price': 150}, 'totalBookedDays': 345600000, 'totalReservations': 1, 'occupancyRate': 22.22222222222222}\n",
            "{'_id': {'roomnum': 9, 'type': 'Suite', 'capacity': 4, 'price': 300}, 'totalBookedDays': 345600000, 'totalReservations': 1, 'occupancyRate': 22.22222222222222}\n",
            "{'_id': {'roomnum': 15, 'type': 'Suite', 'capacity': 4, 'price': 300}, 'totalBookedDays': 259200000, 'totalReservations': 1, 'occupancyRate': 16.666666666666664}\n",
            "{'_id': {'roomnum': 18, 'type': 'Suite', 'capacity': 4, 'price': 300}, 'totalBookedDays': 259200000, 'totalReservations': 1, 'occupancyRate': 16.666666666666664}\n"
          ]
        }
      ],
      "source": [
        "\n",
        "\n",
        "result = list(rooms_collection.aggregate(pipeline))\n",
        "\n",
        "for r in result:\n",
        "    print(r)"
      ]
    },
    {
      "cell_type": "code",
      "execution_count": 70,
      "metadata": {},
      "outputs": [
        {
          "name": "stdout",
          "output_type": "stream",
          "text": [
            "MongoDB query execution time: 0.006505489349365234 seconds\n"
          ]
        }
      ],
      "source": [
        "import time\n",
        "start_time = time.time()\n",
        "result = list(rooms_collection.aggregate(pipeline))\n",
        "end_time = time.time()\n",
        "execution_time = end_time - start_time\n",
        "print(f\"MongoDB query execution time: {execution_time} seconds\")"
      ]
    },
    {
      "cell_type": "markdown",
      "metadata": {
        "id": "VITX5FnYwy9_"
      },
      "source": [
        "We can use prettyprint to make things a bit more human readable"
      ]
    },
    {
      "cell_type": "code",
      "execution_count": 8,
      "metadata": {
        "id": "BubhjWqlCCnq"
      },
      "outputs": [],
      "source": [
        "query = {'Type': 'Single'}\n",
        "result = rooms_collection.find(query)"
      ]
    },
    {
      "cell_type": "code",
      "execution_count": 9,
      "metadata": {
        "id": "XsAr0rUmCCnr"
      },
      "outputs": [
        {
          "name": "stdout",
          "output_type": "stream",
          "text": [
            "{'Capacity': 1,\n",
            " 'ID': 1,\n",
            " 'Price': 100,\n",
            " 'Type': 'Single',\n",
            " '_id': ObjectId('66562feb55685df22d8bcb5d')}\n",
            "{'Capacity': 1,\n",
            " 'ID': 4,\n",
            " 'Price': 100,\n",
            " 'Type': 'Single',\n",
            " '_id': ObjectId('66562feb55685df22d8bcb60')}\n",
            "{'Capacity': 1,\n",
            " 'ID': 7,\n",
            " 'Price': 100,\n",
            " 'Type': 'Single',\n",
            " '_id': ObjectId('66562feb55685df22d8bcb63')}\n",
            "{'Capacity': 1,\n",
            " 'ID': 10,\n",
            " 'Price': 100,\n",
            " 'Type': 'Single',\n",
            " '_id': ObjectId('66562feb55685df22d8bcb66')}\n",
            "{'Capacity': 1,\n",
            " 'ID': 13,\n",
            " 'Price': 100,\n",
            " 'Type': 'Single',\n",
            " '_id': ObjectId('66562feb55685df22d8bcb69')}\n",
            "{'Capacity': 1,\n",
            " 'ID': 16,\n",
            " 'Price': 100,\n",
            " 'Type': 'Single',\n",
            " '_id': ObjectId('66562feb55685df22d8bcb6c')}\n",
            "{'Capacity': 1,\n",
            " 'ID': 19,\n",
            " 'Price': 100,\n",
            " 'Type': 'Single',\n",
            " '_id': ObjectId('66562feb55685df22d8bcb6f')}\n",
            "{'Capacity': 1,\n",
            " 'ID': 1,\n",
            " 'Price': 100,\n",
            " 'Type': 'Single',\n",
            " '_id': ObjectId('665738483a8b63f9eac6bee3')}\n",
            "{'Capacity': 1,\n",
            " 'ID': 4,\n",
            " 'Price': 100,\n",
            " 'Type': 'Single',\n",
            " '_id': ObjectId('665738483a8b63f9eac6bee6')}\n",
            "{'Capacity': 1,\n",
            " 'ID': 7,\n",
            " 'Price': 100,\n",
            " 'Type': 'Single',\n",
            " '_id': ObjectId('665738483a8b63f9eac6bee9')}\n",
            "{'Capacity': 1,\n",
            " 'ID': 10,\n",
            " 'Price': 100,\n",
            " 'Type': 'Single',\n",
            " '_id': ObjectId('665738483a8b63f9eac6beec')}\n",
            "{'Capacity': 1,\n",
            " 'ID': 13,\n",
            " 'Price': 100,\n",
            " 'Type': 'Single',\n",
            " '_id': ObjectId('665738483a8b63f9eac6beef')}\n",
            "{'Capacity': 1,\n",
            " 'ID': 16,\n",
            " 'Price': 100,\n",
            " 'Type': 'Single',\n",
            " '_id': ObjectId('665738483a8b63f9eac6bef2')}\n",
            "{'Capacity': 1,\n",
            " 'ID': 19,\n",
            " 'Price': 100,\n",
            " 'Type': 'Single',\n",
            " '_id': ObjectId('665738483a8b63f9eac6bef5')}\n"
          ]
        }
      ],
      "source": [
        "for e in result:\n",
        "    pprint.pprint(e)"
      ]
    },
    {
      "cell_type": "code",
      "execution_count": null,
      "metadata": {},
      "outputs": [],
      "source": []
    }
  ],
  "metadata": {
    "colab": {
      "provenance": []
    },
    "kernelspec": {
      "display_name": "Python 3",
      "language": "python",
      "name": "python3"
    },
    "language_info": {
      "codemirror_mode": {
        "name": "ipython",
        "version": 3
      },
      "file_extension": ".py",
      "mimetype": "text/x-python",
      "name": "python",
      "nbconvert_exporter": "python",
      "pygments_lexer": "ipython3",
      "version": "3.11.5"
    }
  },
  "nbformat": 4,
  "nbformat_minor": 0
}
