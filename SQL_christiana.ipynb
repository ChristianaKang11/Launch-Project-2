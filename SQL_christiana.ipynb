{
 "cells": [
  {
   "cell_type": "code",
   "execution_count": 1,
   "metadata": {
    "colab": {
     "base_uri": "https://localhost:8080/",
     "height": 375
    },
    "id": "pL3MK37u3V_h",
    "outputId": "dc519631-bc91-4ea3-ca21-b1dbcf060b31"
   },
   "outputs": [],
   "source": [
    "import sqlalchemy\n",
    "import pymysql\n",
    "from sqlalchemy import create_engine\n",
    "import pandas as pd"
   ]
  },
  {
   "cell_type": "markdown",
   "metadata": {
    "id": "EXYCzm4f60Tt"
   },
   "source": [
    "If you get an error saying something like \"sqlalchemy not installed\", you should add a code cell and write `pip install sqlalchemy`. Then, rerun the above cell (you might also need to install pymysql the same way)"
   ]
  },
  {
   "cell_type": "code",
   "execution_count": 2,
   "metadata": {
    "id": "dQADRimI3V_j"
   },
   "outputs": [],
   "source": [
    "password = '..'\n",
    "db_name = '...'"
   ]
  },
  {
   "cell_type": "code",
   "execution_count": 3,
   "metadata": {
    "id": "wkVFDxfq3V_j"
   },
   "outputs": [],
   "source": [
    "conn = pymysql.connect(host='127.0.0.1', port=3306, user='root', password=password, database=db_name)"
   ]
  },
  {
   "cell_type": "code",
   "execution_count": 4,
   "metadata": {
    "id": "8_4eHzso3V_j"
   },
   "outputs": [],
   "source": [
    "connection = create_engine(\"mysql+pymysql://root:\" + password + \"@localhost:3306/\" + db_name)"
   ]
  },
  {
   "cell_type": "code",
   "execution_count": 49,
   "metadata": {
    "colab": {
     "base_uri": "https://localhost:8080/",
     "height": 144
    },
    "id": "UUtddbLZ21do",
    "outputId": "e44ad0e7-bf11-4549-a7df-557c8b6d64b1"
   },
   "outputs": [],
   "source": [
    "guests = pd.read_csv('Project 2 Launch  - Guests.csv')\n",
    "payments = pd.read_csv('Project 2 Launch  - Payments.csv')\n",
    "reservations = pd.read_csv('Project 2 Launch  - Reservations.csv')\n",
    "rooms = pd.read_csv('Project 2 Launch  - Rooms.csv')"
   ]
  },
  {
   "cell_type": "code",
   "execution_count": 52,
   "metadata": {},
   "outputs": [],
   "source": [
    "guests.columns = guests.columns.str.strip()\n",
    "reservations.columns = reservations.columns.str.strip()"
   ]
  },
  {
   "cell_type": "code",
   "execution_count": 53,
   "metadata": {
    "id": "5ktGrJYM28Zl"
   },
   "outputs": [
    {
     "data": {
      "text/plain": [
       "20"
      ]
     },
     "execution_count": 53,
     "metadata": {},
     "output_type": "execute_result"
    }
   ],
   "source": [
    "guests.to_sql(name='guests', con=connection, if_exists='replace', index=False)\n",
    "payments.to_sql(name='payments', con=connection, if_exists='replace', index=False)\n",
    "reservations.to_sql(name='reservations', con=connection, if_exists='replace', index=False)\n",
    "rooms.to_sql(name='rooms', con=connection, if_exists='replace', index=False)"
   ]
  },
  {
   "cell_type": "markdown",
   "metadata": {
    "id": "aOmCA5gd5BiV"
   },
   "source": [
    "Which rooms have the highest occupancy rates? (Rooms<->Reservation)?"
   ]
  },
  {
   "cell_type": "markdown",
   "metadata": {},
   "source": [
    "1. Calculate Total Booked Days for Each Room by subtracting the check-in date from the check-out date.\n",
    "2. Calculate the Total Possible Days by subtracting the check-in date from the check-out date\n",
    "3. Compute Occupancy Rate = total booked days/total possible days in the date range."
   ]
  },
  {
   "cell_type": "code",
   "execution_count": 67,
   "metadata": {
    "id": "Jv7YkgW03V_m"
   },
   "outputs": [],
   "source": [
    "query = \"\"\"\n",
    "SELECT \n",
    "    rooms.ID AS roomnum,\n",
    "    rooms.Type AS type,\n",
    "    rooms.Capacity AS capacity,\n",
    "    rooms.Price AS price,\n",
    "    SUM(DATEDIFF(STR_TO_DATE(res.Checkout_Date, '%%m/%%d/%%y'), STR_TO_DATE(res.Checkin_Date, '%%m/%%d/%%y'))) AS TotalBookedDays,\n",
    "    COUNT(res.Reservation_ID) AS TotalReservations,\n",
    "    (SUM(DATEDIFF(STR_TO_DATE(res.Checkout_Date, '%%m/%%d/%%y'), STR_TO_DATE(res.Checkin_Date, '%%m/%%d/%%y'))) / \n",
    "     (DATEDIFF((SELECT MAX(STR_TO_DATE(res2.Checkout_Date, '%%m/%%d/%%y')) FROM reservations AS res2), \n",
    "               (SELECT MIN(STR_TO_DATE(res2.Checkin_Date, '%%m/%%d/%%y')) FROM reservations AS res2)))) * 100 AS OccupancyRate\n",
    "FROM rooms\n",
    "LEFT JOIN reservations AS res ON rooms.ID = res.Room_Number\n",
    "GROUP BY roomnum, type, capacity, price\n",
    "ORDER BY OccupancyRate DESC;\n",
    "\"\"\""
   ]
  },
  {
   "cell_type": "code",
   "execution_count": 68,
   "metadata": {
    "id": "GtcaW8xg3V_n"
   },
   "outputs": [],
   "source": [
    "result_df = pd.read_sql(query, con=connection)"
   ]
  },
  {
   "cell_type": "code",
   "execution_count": 82,
   "metadata": {
    "id": "swupxQK03V_o"
   },
   "outputs": [
    {
     "data": {
      "text/html": [
       "<div>\n",
       "<style scoped>\n",
       "    .dataframe tbody tr th:only-of-type {\n",
       "        vertical-align: middle;\n",
       "    }\n",
       "\n",
       "    .dataframe tbody tr th {\n",
       "        vertical-align: top;\n",
       "    }\n",
       "\n",
       "    .dataframe thead th {\n",
       "        text-align: right;\n",
       "    }\n",
       "</style>\n",
       "<table border=\"1\" class=\"dataframe\">\n",
       "  <thead>\n",
       "    <tr style=\"text-align: right;\">\n",
       "      <th></th>\n",
       "      <th>roomnum</th>\n",
       "      <th>type</th>\n",
       "      <th>capacity</th>\n",
       "      <th>price</th>\n",
       "      <th>TotalBookedDays</th>\n",
       "      <th>TotalReservations</th>\n",
       "      <th>OccupancyRate</th>\n",
       "    </tr>\n",
       "  </thead>\n",
       "  <tbody>\n",
       "    <tr>\n",
       "      <th>0</th>\n",
       "      <td>8</td>\n",
       "      <td>Double</td>\n",
       "      <td>2</td>\n",
       "      <td>150</td>\n",
       "      <td>17.0</td>\n",
       "      <td>2</td>\n",
       "      <td>94.4444</td>\n",
       "    </tr>\n",
       "    <tr>\n",
       "      <th>1</th>\n",
       "      <td>20</td>\n",
       "      <td>Double</td>\n",
       "      <td>2</td>\n",
       "      <td>150</td>\n",
       "      <td>16.0</td>\n",
       "      <td>2</td>\n",
       "      <td>88.8889</td>\n",
       "    </tr>\n",
       "    <tr>\n",
       "      <th>2</th>\n",
       "      <td>3</td>\n",
       "      <td>Suite</td>\n",
       "      <td>4</td>\n",
       "      <td>300</td>\n",
       "      <td>15.0</td>\n",
       "      <td>2</td>\n",
       "      <td>83.3333</td>\n",
       "    </tr>\n",
       "    <tr>\n",
       "      <th>3</th>\n",
       "      <td>6</td>\n",
       "      <td>Suite</td>\n",
       "      <td>4</td>\n",
       "      <td>300</td>\n",
       "      <td>13.0</td>\n",
       "      <td>2</td>\n",
       "      <td>72.2222</td>\n",
       "    </tr>\n",
       "    <tr>\n",
       "      <th>4</th>\n",
       "      <td>10</td>\n",
       "      <td>Single</td>\n",
       "      <td>1</td>\n",
       "      <td>100</td>\n",
       "      <td>13.0</td>\n",
       "      <td>2</td>\n",
       "      <td>72.2222</td>\n",
       "    </tr>\n",
       "    <tr>\n",
       "      <th>5</th>\n",
       "      <td>19</td>\n",
       "      <td>Single</td>\n",
       "      <td>1</td>\n",
       "      <td>100</td>\n",
       "      <td>12.0</td>\n",
       "      <td>2</td>\n",
       "      <td>66.6667</td>\n",
       "    </tr>\n",
       "    <tr>\n",
       "      <th>6</th>\n",
       "      <td>1</td>\n",
       "      <td>Single</td>\n",
       "      <td>1</td>\n",
       "      <td>100</td>\n",
       "      <td>9.0</td>\n",
       "      <td>2</td>\n",
       "      <td>50.0000</td>\n",
       "    </tr>\n",
       "    <tr>\n",
       "      <th>7</th>\n",
       "      <td>4</td>\n",
       "      <td>Single</td>\n",
       "      <td>1</td>\n",
       "      <td>100</td>\n",
       "      <td>9.0</td>\n",
       "      <td>1</td>\n",
       "      <td>50.0000</td>\n",
       "    </tr>\n",
       "    <tr>\n",
       "      <th>8</th>\n",
       "      <td>13</td>\n",
       "      <td>Single</td>\n",
       "      <td>1</td>\n",
       "      <td>100</td>\n",
       "      <td>9.0</td>\n",
       "      <td>2</td>\n",
       "      <td>50.0000</td>\n",
       "    </tr>\n",
       "    <tr>\n",
       "      <th>9</th>\n",
       "      <td>14</td>\n",
       "      <td>Double</td>\n",
       "      <td>2</td>\n",
       "      <td>150</td>\n",
       "      <td>9.0</td>\n",
       "      <td>1</td>\n",
       "      <td>50.0000</td>\n",
       "    </tr>\n",
       "    <tr>\n",
       "      <th>10</th>\n",
       "      <td>12</td>\n",
       "      <td>Suite</td>\n",
       "      <td>4</td>\n",
       "      <td>300</td>\n",
       "      <td>8.0</td>\n",
       "      <td>1</td>\n",
       "      <td>44.4444</td>\n",
       "    </tr>\n",
       "    <tr>\n",
       "      <th>11</th>\n",
       "      <td>16</td>\n",
       "      <td>Single</td>\n",
       "      <td>1</td>\n",
       "      <td>100</td>\n",
       "      <td>8.0</td>\n",
       "      <td>2</td>\n",
       "      <td>44.4444</td>\n",
       "    </tr>\n",
       "    <tr>\n",
       "      <th>12</th>\n",
       "      <td>11</td>\n",
       "      <td>Double</td>\n",
       "      <td>2</td>\n",
       "      <td>150</td>\n",
       "      <td>7.0</td>\n",
       "      <td>2</td>\n",
       "      <td>38.8889</td>\n",
       "    </tr>\n",
       "    <tr>\n",
       "      <th>13</th>\n",
       "      <td>7</td>\n",
       "      <td>Single</td>\n",
       "      <td>1</td>\n",
       "      <td>100</td>\n",
       "      <td>6.0</td>\n",
       "      <td>1</td>\n",
       "      <td>33.3333</td>\n",
       "    </tr>\n",
       "    <tr>\n",
       "      <th>14</th>\n",
       "      <td>5</td>\n",
       "      <td>Double</td>\n",
       "      <td>2</td>\n",
       "      <td>150</td>\n",
       "      <td>5.0</td>\n",
       "      <td>1</td>\n",
       "      <td>27.7778</td>\n",
       "    </tr>\n",
       "    <tr>\n",
       "      <th>15</th>\n",
       "      <td>2</td>\n",
       "      <td>Double</td>\n",
       "      <td>2</td>\n",
       "      <td>150</td>\n",
       "      <td>4.0</td>\n",
       "      <td>1</td>\n",
       "      <td>22.2222</td>\n",
       "    </tr>\n",
       "    <tr>\n",
       "      <th>16</th>\n",
       "      <td>9</td>\n",
       "      <td>Suite</td>\n",
       "      <td>4</td>\n",
       "      <td>300</td>\n",
       "      <td>4.0</td>\n",
       "      <td>1</td>\n",
       "      <td>22.2222</td>\n",
       "    </tr>\n",
       "    <tr>\n",
       "      <th>17</th>\n",
       "      <td>17</td>\n",
       "      <td>Double</td>\n",
       "      <td>2</td>\n",
       "      <td>150</td>\n",
       "      <td>4.0</td>\n",
       "      <td>1</td>\n",
       "      <td>22.2222</td>\n",
       "    </tr>\n",
       "    <tr>\n",
       "      <th>18</th>\n",
       "      <td>15</td>\n",
       "      <td>Suite</td>\n",
       "      <td>4</td>\n",
       "      <td>300</td>\n",
       "      <td>3.0</td>\n",
       "      <td>1</td>\n",
       "      <td>16.6667</td>\n",
       "    </tr>\n",
       "    <tr>\n",
       "      <th>19</th>\n",
       "      <td>18</td>\n",
       "      <td>Suite</td>\n",
       "      <td>4</td>\n",
       "      <td>300</td>\n",
       "      <td>3.0</td>\n",
       "      <td>1</td>\n",
       "      <td>16.6667</td>\n",
       "    </tr>\n",
       "  </tbody>\n",
       "</table>\n",
       "</div>"
      ],
      "text/plain": [
       "    roomnum    type  capacity  price  TotalBookedDays  TotalReservations  \\\n",
       "0         8  Double         2    150             17.0                  2   \n",
       "1        20  Double         2    150             16.0                  2   \n",
       "2         3   Suite         4    300             15.0                  2   \n",
       "3         6   Suite         4    300             13.0                  2   \n",
       "4        10  Single         1    100             13.0                  2   \n",
       "5        19  Single         1    100             12.0                  2   \n",
       "6         1  Single         1    100              9.0                  2   \n",
       "7         4  Single         1    100              9.0                  1   \n",
       "8        13  Single         1    100              9.0                  2   \n",
       "9        14  Double         2    150              9.0                  1   \n",
       "10       12   Suite         4    300              8.0                  1   \n",
       "11       16  Single         1    100              8.0                  2   \n",
       "12       11  Double         2    150              7.0                  2   \n",
       "13        7  Single         1    100              6.0                  1   \n",
       "14        5  Double         2    150              5.0                  1   \n",
       "15        2  Double         2    150              4.0                  1   \n",
       "16        9   Suite         4    300              4.0                  1   \n",
       "17       17  Double         2    150              4.0                  1   \n",
       "18       15   Suite         4    300              3.0                  1   \n",
       "19       18   Suite         4    300              3.0                  1   \n",
       "\n",
       "    OccupancyRate  \n",
       "0         94.4444  \n",
       "1         88.8889  \n",
       "2         83.3333  \n",
       "3         72.2222  \n",
       "4         72.2222  \n",
       "5         66.6667  \n",
       "6         50.0000  \n",
       "7         50.0000  \n",
       "8         50.0000  \n",
       "9         50.0000  \n",
       "10        44.4444  \n",
       "11        44.4444  \n",
       "12        38.8889  \n",
       "13        33.3333  \n",
       "14        27.7778  \n",
       "15        22.2222  \n",
       "16        22.2222  \n",
       "17        22.2222  \n",
       "18        16.6667  \n",
       "19        16.6667  "
      ]
     },
     "execution_count": 82,
     "metadata": {},
     "output_type": "execute_result"
    }
   ],
   "source": [
    "result_df"
   ]
  },
  {
   "cell_type": "code",
   "execution_count": 80,
   "metadata": {},
   "outputs": [
    {
     "name": "stdout",
     "output_type": "stream",
     "text": [
      "MySQL query execution time: 0.0032050609588623047 seconds\n"
     ]
    }
   ],
   "source": [
    "import time\n",
    "start_time = time.time()\n",
    "result_df1 = pd.read_sql(query, con=connection)\n",
    "end_time = time.time()\n",
    "execution_time = end_time - start_time\n",
    "print(f\"MySQL query execution time: {execution_time} seconds\")"
   ]
  },
  {
   "cell_type": "code",
   "execution_count": null,
   "metadata": {},
   "outputs": [],
   "source": [
    "import matplotlib.pyplot as plt\n",
    "plt.figure(figsize=(10, 6))\n",
    "plt.bar(range(len(result_df)), result_df['OccupancyRate'], color='skyblue')\n",
    "plt.xlabel('Room Number')\n",
    "plt.ylabel('Occupancy Rate (%)')\n",
    "plt.title('Occupancy Rate by Room Number')\n",
    "plt.xticks(range(len(result_df)), result_df['roomnum'])\n",
    "plt.grid(axis='y')\n",
    "plt.show()"
   ]
  }
 ],
 "metadata": {
  "colab": {
   "provenance": []
  },
  "kernelspec": {
   "display_name": "Python 3 (ipykernel)",
   "language": "python",
   "name": "python3"
  },
  "language_info": {
   "codemirror_mode": {
    "name": "ipython",
    "version": 3
   },
   "file_extension": ".py",
   "mimetype": "text/x-python",
   "name": "python",
   "nbconvert_exporter": "python",
   "pygments_lexer": "ipython3",
   "version": "3.11.5"
  }
 },
 "nbformat": 4,
 "nbformat_minor": 1
}
