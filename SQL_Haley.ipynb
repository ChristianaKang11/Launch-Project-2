{
 "cells": [
  {
   "cell_type": "code",
   "execution_count": 2,
   "id": "85842ee5",
   "metadata": {},
   "outputs": [
    {
     "name": "stdout",
     "output_type": "stream",
     "text": [
      "Requirement already satisfied: pymysql in c:\\users\\ham04\\anaconda3\\lib\\site-packages (1.1.1)\n"
     ]
    }
   ],
   "source": [
    "import sqlalchemy\n",
    "!pip install pymysql\n",
    "import pymysql\n",
    "from sqlalchemy import create_engine\n",
    "import pandas as pd"
   ]
  },
  {
   "cell_type": "code",
   "execution_count": 3,
   "id": "5228ce1e",
   "metadata": {},
   "outputs": [],
   "source": [
    "password = 'password'\n",
    "db_name = 'tester'"
   ]
  },
  {
   "cell_type": "code",
   "execution_count": 4,
   "id": "106b2fdb",
   "metadata": {},
   "outputs": [],
   "source": [
    "conn = pymysql.connect(host='127.0.0.1', port=3306, user='root', password=password, database=db_name)"
   ]
  },
  {
   "cell_type": "code",
   "execution_count": 5,
   "id": "730f744d",
   "metadata": {},
   "outputs": [],
   "source": [
    "connection = create_engine(\"mysql+pymysql://root:\" + password + \"@localhost:3306/\" + db_name)"
   ]
  },
  {
   "cell_type": "code",
   "execution_count": 6,
   "id": "0beed611",
   "metadata": {},
   "outputs": [],
   "source": [
    "rooms = pd.read_csv(\"Project 2 Launch  - Rooms.csv\")\n",
    "reservations = pd.read_csv(\"Project 2 Launch  - Reservations.csv\")\n",
    "payments = pd.read_csv(\"Project 2 Launch  - Payments.csv\")\n",
    "guests = pd.read_csv(\"Project 2 Launch  - Guests.csv\")"
   ]
  },
  {
   "cell_type": "code",
   "execution_count": 7,
   "id": "f1ff35ad",
   "metadata": {},
   "outputs": [],
   "source": [
    "table_name = 'rooms'\n",
    "table_name1 = 'reservations'\n",
    "table_name2 = 'payments'\n",
    "table_name3 = 'guests'"
   ]
  },
  {
   "cell_type": "code",
   "execution_count": 8,
   "id": "d7a0660b",
   "metadata": {},
   "outputs": [],
   "source": [
    "rooms.columns = rooms.columns.str.strip()\n",
    "reservations.columns = reservations.columns.str.strip()\n",
    "payments.columns = payments.columns.str.strip()\n",
    "guests.columns = guests.columns.str.strip()"
   ]
  },
  {
   "cell_type": "code",
   "execution_count": 9,
   "id": "9233b293",
   "metadata": {},
   "outputs": [
    {
     "data": {
      "text/plain": [
       "30"
      ]
     },
     "execution_count": 9,
     "metadata": {},
     "output_type": "execute_result"
    }
   ],
   "source": [
    "rooms.to_sql(name=table_name, con=connection, if_exists='replace', index=False)\n",
    "reservations.to_sql(name=table_name1, con=connection, if_exists='replace', index=False)\n",
    "payments.to_sql(name=table_name2, con=connection, if_exists='replace', index=False)\n",
    "guests.to_sql(name=table_name3, con=connection, if_exists='replace', index=False)"
   ]
  },
  {
   "cell_type": "code",
   "execution_count": 14,
   "id": "7a36e463",
   "metadata": {},
   "outputs": [],
   "source": [
    "query2 = \"\"\"SELECT payments.Amount, guests.Name, guests.Email FROM payments\n",
    "JOIN reservations ON payments.Reservation_ID = reservations.Reservation_ID\n",
    "JOIN guests ON reservations.Guest_ID = guests.Guest_ID\n",
    "WHERE Amount > 1000\n",
    "ORDER BY Amount DESC;\"\"\""
   ]
  },
  {
   "cell_type": "code",
   "execution_count": 15,
   "id": "553255b7",
   "metadata": {},
   "outputs": [
    {
     "data": {
      "text/html": [
       "<div>\n",
       "<style scoped>\n",
       "    .dataframe tbody tr th:only-of-type {\n",
       "        vertical-align: middle;\n",
       "    }\n",
       "\n",
       "    .dataframe tbody tr th {\n",
       "        vertical-align: top;\n",
       "    }\n",
       "\n",
       "    .dataframe thead th {\n",
       "        text-align: right;\n",
       "    }\n",
       "</style>\n",
       "<table border=\"1\" class=\"dataframe\">\n",
       "  <thead>\n",
       "    <tr style=\"text-align: right;\">\n",
       "      <th></th>\n",
       "      <th>Amount</th>\n",
       "      <th>Name</th>\n",
       "      <th>Email</th>\n",
       "    </tr>\n",
       "  </thead>\n",
       "  <tbody>\n",
       "    <tr>\n",
       "      <th>0</th>\n",
       "      <td>3300</td>\n",
       "      <td>Zoe Watson</td>\n",
       "      <td>j9b2@example.com</td>\n",
       "    </tr>\n",
       "    <tr>\n",
       "      <th>1</th>\n",
       "      <td>2400</td>\n",
       "      <td>Isabella Hayes</td>\n",
       "      <td>d7k8h2@example.com</td>\n",
       "    </tr>\n",
       "    <tr>\n",
       "      <th>2</th>\n",
       "      <td>1950</td>\n",
       "      <td>Sophia Bennett</td>\n",
       "      <td>q6a5b3@example.com</td>\n",
       "    </tr>\n",
       "    <tr>\n",
       "      <th>3</th>\n",
       "      <td>1500</td>\n",
       "      <td>Lily Edwards</td>\n",
       "      <td>h2d4@example.com</td>\n",
       "    </tr>\n",
       "    <tr>\n",
       "      <th>4</th>\n",
       "      <td>1350</td>\n",
       "      <td>Charlotte Jenkins</td>\n",
       "      <td>c6b7t3@example.com</td>\n",
       "    </tr>\n",
       "    <tr>\n",
       "      <th>5</th>\n",
       "      <td>1350</td>\n",
       "      <td>Grace Henderson</td>\n",
       "      <td>t9x2d4@example.com</td>\n",
       "    </tr>\n",
       "    <tr>\n",
       "      <th>6</th>\n",
       "      <td>1200</td>\n",
       "      <td>Noah Carter</td>\n",
       "      <td>k5t8w1@example.com</td>\n",
       "    </tr>\n",
       "    <tr>\n",
       "      <th>7</th>\n",
       "      <td>1200</td>\n",
       "      <td>Emma Sullivan</td>\n",
       "      <td>j1l4d8@example.com</td>\n",
       "    </tr>\n",
       "    <tr>\n",
       "      <th>8</th>\n",
       "      <td>1200</td>\n",
       "      <td>Lucas Ward</td>\n",
       "      <td>x8z7c1@example.com</td>\n",
       "    </tr>\n",
       "    <tr>\n",
       "      <th>9</th>\n",
       "      <td>1050</td>\n",
       "      <td>Nathaniel Hughes</td>\n",
       "      <td>r5t7@example.com</td>\n",
       "    </tr>\n",
       "  </tbody>\n",
       "</table>\n",
       "</div>"
      ],
      "text/plain": [
       "   Amount               Name               Email\n",
       "0    3300         Zoe Watson    j9b2@example.com\n",
       "1    2400     Isabella Hayes  d7k8h2@example.com\n",
       "2    1950     Sophia Bennett  q6a5b3@example.com\n",
       "3    1500       Lily Edwards    h2d4@example.com\n",
       "4    1350  Charlotte Jenkins  c6b7t3@example.com\n",
       "5    1350    Grace Henderson  t9x2d4@example.com\n",
       "6    1200        Noah Carter  k5t8w1@example.com\n",
       "7    1200      Emma Sullivan  j1l4d8@example.com\n",
       "8    1200         Lucas Ward  x8z7c1@example.com\n",
       "9    1050   Nathaniel Hughes    r5t7@example.com"
      ]
     },
     "execution_count": 15,
     "metadata": {},
     "output_type": "execute_result"
    }
   ],
   "source": [
    "result_df = pd.read_sql(query2, con=connection)\n",
    "result_df"
   ]
  },
  {
   "cell_type": "code",
   "execution_count": null,
   "id": "1fde40f3",
   "metadata": {},
   "outputs": [],
   "source": []
  }
 ],
 "metadata": {
  "kernelspec": {
   "display_name": "Python 3 (ipykernel)",
   "language": "python",
   "name": "python3"
  },
  "language_info": {
   "codemirror_mode": {
    "name": "ipython",
    "version": 3
   },
   "file_extension": ".py",
   "mimetype": "text/x-python",
   "name": "python",
   "nbconvert_exporter": "python",
   "pygments_lexer": "ipython3",
   "version": "3.11.5"
  }
 },
 "nbformat": 4,
 "nbformat_minor": 5
}
